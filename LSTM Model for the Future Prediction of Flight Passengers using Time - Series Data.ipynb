{
 "cells": [
  {
   "cell_type": "markdown",
   "metadata": {},
   "source": [
    "# Monthly Flight Passengers Prediction using LSTM\n",
    "\n",
    "Long Short-Term  Memory(LSTM) model on total passengers forecasting using time-series data. This dataset provides data from 1949 January."
   ]
  },
  {
   "cell_type": "markdown",
   "metadata": {},
   "source": [
    "# Dataset Description\n",
    "\n",
    "The dataset is taken from the direct download of seaborn built in 'flight dataset'. The dataset has three columns: year, month, and passengers. The passengers column contains the total number of traveling passengers in a specified month. "
   ]
  },
  {
   "cell_type": "code",
   "execution_count": 1,
   "metadata": {},
   "outputs": [],
   "source": [
    "#import all the libraries that are needed\n",
    "import pandas as pd\n",
    "import numpy as np\n",
    "import torch\n",
    "import matplotlib.pyplot as plt\n",
    "import seaborn as sns\n",
    "from torch import nn\n",
    "from sklearn.preprocessing import MinMaxScaler"
   ]
  },
  {
   "cell_type": "code",
   "execution_count": 2,
   "metadata": {},
   "outputs": [
    {
     "name": "stderr",
     "output_type": "stream",
     "text": [
      "C:\\Users\\prade\\Anaconda3\\envs\\Python3.7\\lib\\site-packages\\seaborn\\utils.py:384: GuessedAtParserWarning: No parser was explicitly specified, so I'm using the best available HTML parser for this system (\"html.parser\"). This usually isn't a problem, but if you run this code on another system, or in a different virtual environment, it may use a different parser and behave differently.\n",
      "\n",
      "The code that caused this warning is on line 384 of the file C:\\Users\\prade\\Anaconda3\\envs\\Python3.7\\lib\\site-packages\\seaborn\\utils.py. To get rid of this warning, pass the additional argument 'features=\"html.parser\"' to the BeautifulSoup constructor.\n",
      "\n",
      "  gh_list = BeautifulSoup(http)\n"
     ]
    },
    {
     "data": {
      "text/plain": [
       "['anagrams',\n",
       " 'anscombe',\n",
       " 'attention',\n",
       " 'brain_networks',\n",
       " 'car_crashes',\n",
       " 'diamonds',\n",
       " 'dots',\n",
       " 'exercise',\n",
       " 'flights',\n",
       " 'fmri',\n",
       " 'gammas',\n",
       " 'geyser',\n",
       " 'iris',\n",
       " 'mpg',\n",
       " 'penguins',\n",
       " 'planets',\n",
       " 'tips',\n",
       " 'titanic']"
      ]
     },
     "execution_count": 2,
     "metadata": {},
     "output_type": "execute_result"
    }
   ],
   "source": [
    "#vizualize the datasets in seaborn\n",
    "sns.get_dataset_names()"
   ]
  },
  {
   "cell_type": "markdown",
   "metadata": {},
   "source": [
    "# 1. Loading & Vizualizing Flight Passengers Dataset "
   ]
  },
  {
   "cell_type": "code",
   "execution_count": 3,
   "metadata": {},
   "outputs": [],
   "source": [
    "#loading the dataset\n",
    "flight_dataset = sns.load_dataset('flights')"
   ]
  },
  {
   "cell_type": "code",
   "execution_count": 4,
   "metadata": {},
   "outputs": [
    {
     "data": {
      "text/html": [
       "<div>\n",
       "<style scoped>\n",
       "    .dataframe tbody tr th:only-of-type {\n",
       "        vertical-align: middle;\n",
       "    }\n",
       "\n",
       "    .dataframe tbody tr th {\n",
       "        vertical-align: top;\n",
       "    }\n",
       "\n",
       "    .dataframe thead th {\n",
       "        text-align: right;\n",
       "    }\n",
       "</style>\n",
       "<table border=\"1\" class=\"dataframe\">\n",
       "  <thead>\n",
       "    <tr style=\"text-align: right;\">\n",
       "      <th></th>\n",
       "      <th>year</th>\n",
       "      <th>month</th>\n",
       "      <th>passengers</th>\n",
       "    </tr>\n",
       "  </thead>\n",
       "  <tbody>\n",
       "    <tr>\n",
       "      <th>0</th>\n",
       "      <td>1949</td>\n",
       "      <td>January</td>\n",
       "      <td>112</td>\n",
       "    </tr>\n",
       "    <tr>\n",
       "      <th>1</th>\n",
       "      <td>1949</td>\n",
       "      <td>February</td>\n",
       "      <td>118</td>\n",
       "    </tr>\n",
       "    <tr>\n",
       "      <th>2</th>\n",
       "      <td>1949</td>\n",
       "      <td>March</td>\n",
       "      <td>132</td>\n",
       "    </tr>\n",
       "    <tr>\n",
       "      <th>3</th>\n",
       "      <td>1949</td>\n",
       "      <td>April</td>\n",
       "      <td>129</td>\n",
       "    </tr>\n",
       "    <tr>\n",
       "      <th>4</th>\n",
       "      <td>1949</td>\n",
       "      <td>May</td>\n",
       "      <td>121</td>\n",
       "    </tr>\n",
       "    <tr>\n",
       "      <th>...</th>\n",
       "      <td>...</td>\n",
       "      <td>...</td>\n",
       "      <td>...</td>\n",
       "    </tr>\n",
       "    <tr>\n",
       "      <th>139</th>\n",
       "      <td>1960</td>\n",
       "      <td>August</td>\n",
       "      <td>606</td>\n",
       "    </tr>\n",
       "    <tr>\n",
       "      <th>140</th>\n",
       "      <td>1960</td>\n",
       "      <td>September</td>\n",
       "      <td>508</td>\n",
       "    </tr>\n",
       "    <tr>\n",
       "      <th>141</th>\n",
       "      <td>1960</td>\n",
       "      <td>October</td>\n",
       "      <td>461</td>\n",
       "    </tr>\n",
       "    <tr>\n",
       "      <th>142</th>\n",
       "      <td>1960</td>\n",
       "      <td>November</td>\n",
       "      <td>390</td>\n",
       "    </tr>\n",
       "    <tr>\n",
       "      <th>143</th>\n",
       "      <td>1960</td>\n",
       "      <td>December</td>\n",
       "      <td>432</td>\n",
       "    </tr>\n",
       "  </tbody>\n",
       "</table>\n",
       "<p>144 rows × 3 columns</p>\n",
       "</div>"
      ],
      "text/plain": [
       "     year      month  passengers\n",
       "0    1949    January         112\n",
       "1    1949   February         118\n",
       "2    1949      March         132\n",
       "3    1949      April         129\n",
       "4    1949        May         121\n",
       "..    ...        ...         ...\n",
       "139  1960     August         606\n",
       "140  1960  September         508\n",
       "141  1960    October         461\n",
       "142  1960   November         390\n",
       "143  1960   December         432\n",
       "\n",
       "[144 rows x 3 columns]"
      ]
     },
     "execution_count": 4,
     "metadata": {},
     "output_type": "execute_result"
    }
   ],
   "source": [
    "#To vizualize the loaded dataset\n",
    "flight_dataset"
   ]
  },
  {
   "cell_type": "code",
   "execution_count": 5,
   "metadata": {},
   "outputs": [
    {
     "data": {
      "image/png": "[encoded data removed]",
      "text/plain": [
       "<Figure size 432x288 with 1 Axes>"
      ]
     },
     "metadata": {
      "needs_background": "light"
     },
     "output_type": "display_data"
    }
   ],
   "source": [
    "#plotting the data\n",
    "plt.plot(flight_dataset['passengers'])\n",
    "plt.title('Month vs Passenger')\n",
    "plt.ylabel('Total Passengers')\n",
    "plt.xlabel('Months')\n",
    "plt.grid(True)"
   ]
  },
  {
   "cell_type": "markdown",
   "metadata": {},
   "source": [
    "# 2. Splitting the Dataset into Train, Test"
   ]
  },
  {
   "cell_type": "code",
   "execution_count": 6,
   "metadata": {},
   "outputs": [],
   "source": [
    "#change the values of passengers to float values for prcoessing further\n",
    "passenger_values = flight_dataset['passengers'].values.astype(float)\n",
    "\n",
    "#train, test splitting the dataset train = (0,132) test = (132,144)\n",
    "split_size = 12\n",
    "train_values = passenger_values[:-split_size]\n",
    "test_values = passenger_values[-split_size:]"
   ]
  },
  {
   "cell_type": "code",
   "execution_count": 10,
   "metadata": {},
   "outputs": [
    {
     "data": {
      "text/plain": [
       "((132, 1),\n",
       " array([[-0.96483516],\n",
       "        [-0.93846154],\n",
       "        [-0.87692308],\n",
       "        [-0.89010989],\n",
       "        [-0.92527473]]))"
      ]
     },
     "execution_count": 10,
     "metadata": {},
     "output_type": "execute_result"
    }
   ],
   "source": [
    "#to evaluate oor normalize the values between -1 and 1\n",
    "mm_scaler = MinMaxScaler(feature_range=(-1, 1)) \n",
    "mm_scaler = mm_scaler.fit(np.expand_dims(train_values, axis=1))\n",
    "train_data = mm_scaler.transform(np.expand_dims(train_values, axis=1))\n",
    "train_data.shape, train_data[0:5]"
   ]
  },
  {
   "cell_type": "markdown",
   "metadata": {},
   "source": [
    "# 3. Convert the Data into X,y"
   ]
  },
  {
   "cell_type": "code",
   "execution_count": 11,
   "metadata": {},
   "outputs": [],
   "source": [
    "#These created train and test data should be split the sequence into input (X) and output (y) values depending on sequence length\n",
    "def split_sequences(sequences_data,sequence_length):\n",
    "    X,y = list(),list()\n",
    "    for i in range(len(sequences_data)-sequence_length-1):\n",
    "        # find the end of this pattern\n",
    "        end_ix = i + sequence_length\n",
    "        #gather input and output parts of the pattern\n",
    "        seq_x, seq_y = sequences_data[i:(end_ix)],sequences_data[end_ix]\n",
    "        X.append(seq_x)\n",
    "        y.append(seq_y)\n",
    "    return np.array(X), np.array(y)"
   ]
  },
  {
   "cell_type": "code",
   "execution_count": 12,
   "metadata": {},
   "outputs": [],
   "source": [
    "#Obtaining X and y values of train data\n",
    "X_train, y_train = split_sequences(sequences_data=train_data,sequence_length = 12)"
   ]
  },
  {
   "cell_type": "code",
   "execution_count": 13,
   "metadata": {},
   "outputs": [
    {
     "data": {
      "text/plain": [
       "(array([[-0.96483516],\n",
       "        [-0.93846154],\n",
       "        [-0.87692308],\n",
       "        [-0.89010989],\n",
       "        [-0.92527473],\n",
       "        [-0.86373626],\n",
       "        [-0.80659341],\n",
       "        [-0.80659341],\n",
       "        [-0.85934066],\n",
       "        [-0.93406593],\n",
       "        [-1.        ],\n",
       "        [-0.93846154]]),\n",
       " (119, 12, 1))"
      ]
     },
     "execution_count": 13,
     "metadata": {},
     "output_type": "execute_result"
    }
   ],
   "source": [
    "#Viewing first element of input train value\n",
    "X_train[0], X_train.shape"
   ]
  },
  {
   "cell_type": "code",
   "execution_count": 14,
   "metadata": {},
   "outputs": [
    {
     "data": {
      "text/plain": [
       "(array([-0.96483516, -0.93846154, -0.87692308, -0.89010989, -0.92527473,\n",
       "        -0.86373626, -0.80659341, -0.80659341, -0.85934066, -0.93406593,\n",
       "        -1.        , -0.93846154]),\n",
       " (119, 12))"
      ]
     },
     "execution_count": 14,
     "metadata": {},
     "output_type": "execute_result"
    }
   ],
   "source": [
    "#reshaping to required\n",
    "X_train = X_train.reshape(len(X_train),12)\n",
    "X_train[0], X_train.shape"
   ]
  },
  {
   "cell_type": "code",
   "execution_count": 15,
   "metadata": {},
   "outputs": [
    {
     "data": {
      "text/plain": [
       "(array([-0.95164835]), (119, 1))"
      ]
     },
     "execution_count": 15,
     "metadata": {},
     "output_type": "execute_result"
    }
   ],
   "source": [
    "#Viewing first element of output train value\n",
    "y_train[0], y_train.shape"
   ]
  },
  {
   "cell_type": "code",
   "execution_count": 16,
   "metadata": {},
   "outputs": [
    {
     "data": {
      "text/plain": [
       "(torch.Size([119, 12]), torch.Size([119, 1]))"
      ]
     },
     "execution_count": 16,
     "metadata": {},
     "output_type": "execute_result"
    }
   ],
   "source": [
    "#Converting train data from numpy array into Pytorch tensors\n",
    "X_train = torch.from_numpy(X_train).float()\n",
    "y_train = torch.from_numpy(y_train).float()\n",
    "X_train.shape, y_train.shape"
   ]
  },
  {
   "cell_type": "markdown",
   "metadata": {},
   "source": [
    "# 4. Building LSTM Network Model\n",
    "Initialise the data layers for the LSTM, sequence length, hidden and feature size. As it is require to reset the state after every epoch of turn to analyse again the data as clear. Get the test data time step that is required and sent to linear layer to forecast the future."
   ]
  },
  {
   "cell_type": "code",
   "execution_count": 17,
   "metadata": {},
   "outputs": [],
   "source": [
    "#Defining a class of future data prediction using 'LSTM' as of self.lstm\n",
    "class FutureDataPrediction(nn.Module):\n",
    "    def __init__(self, feature_size, hidden_layer):\n",
    "        super(FutureDataPrediction, self).__init__()\n",
    "        self.hidden_layer = hidden_layer\n",
    "        \n",
    "        self.lstm = nn.LSTM(input_size=feature_size,hidden_size=hidden_layer)\n",
    "        self.linear = nn.Linear(in_features=hidden_layer, out_features=1)\n",
    "        self.hidden = (\n",
    "            torch.zeros(1,1, self.hidden_layer),\n",
    "            torch.zeros(1,1,self.hidden_layer))\n",
    "    \n",
    "    def forward(self, data):\n",
    "        lstm, self.hidden = self.lstm(data.view(len(data), 1, -1),self.hidden)\n",
    "        previous_time_step = lstm.view(len(data), -1)\n",
    "        out = self.linear(previous_time_step)\n",
    "        return out[-1]\n",
    "   "
   ]
  },
  {
   "cell_type": "code",
   "execution_count": 18,
   "metadata": {},
   "outputs": [],
   "source": [
    "class FutureDataPrediction(nn.Module):\n",
    "    def __init__(self, feature_size, hidden_layer, seq_len):\n",
    "        super(FutureDataPrediction, self).__init__()\n",
    "        self.hidden_layer = hidden_layer\n",
    "        self.seq_len = seq_len\n",
    "        \n",
    "        \n",
    "        self.lstm = nn.LSTM(input_size=feature_size,hidden_size=hidden_layer)\n",
    "        self.linear = nn.Linear(in_features=hidden_layer, out_features=1)\n",
    "    \n",
    "    def reset_hidden_state(self):\n",
    "        self.hidden = (\n",
    "            torch.zeros(1, self.seq_len, self.hidden_layer),\n",
    "            torch.zeros(1, self.seq_len, self.hidden_layer))\n",
    "    \n",
    "    def forward(self, data):\n",
    "        lstm, self.hidden = self.lstm(data.view(len(data), self.seq_len, -1),self.hidden)\n",
    "        previous_time_step = lstm.view(self.seq_len, len(data), self.hidden_layer)[-1]\n",
    "        out = self.linear(previous_time_step)\n",
    "        return out\n",
    "   "
   ]
  },
  {
   "cell_type": "code",
   "execution_count": 19,
   "metadata": {},
   "outputs": [
    {
     "data": {
      "text/plain": [
       "FutureDataPrediction(\n",
       "  (lstm): LSTM(1, 100)\n",
       "  (linear): Linear(in_features=100, out_features=1, bias=True)\n",
       ")"
      ]
     },
     "execution_count": 19,
     "metadata": {},
     "output_type": "execute_result"
    }
   ],
   "source": [
    "#initialise modelparameters\n",
    "model = FutureDataPrediction(\n",
    "    feature_size=1,\n",
    "    hidden_layer=100,\n",
    "    seq_len=12)\n",
    "criterion = torch.nn.MSELoss() #loss function\n",
    "optimizer = torch.optim.Adam(model.parameters(), lr=1e-3) #optimizer\n",
    "model"
   ]
  },
  {
   "cell_type": "code",
   "execution_count": 20,
   "metadata": {},
   "outputs": [
    {
     "data": {
      "text/plain": [
       "<All keys matched successfully>"
      ]
     },
     "execution_count": 20,
     "metadata": {},
     "output_type": "execute_result"
    }
   ],
   "source": [
    "#The designed model structure can be vizualized\n",
    "torch.save(model.state_dict(), 'LSTM_Model.pt') #saving the model\n",
    "model.load_state_dict(torch.load('LSTM_Model.pt')) #loading the model"
   ]
  },
  {
   "cell_type": "markdown",
   "metadata": {},
   "source": [
    "# 5. Train the LSTM Model using Hyperparameters"
   ]
  },
  {
   "cell_type": "code",
   "execution_count": 21,
   "metadata": {},
   "outputs": [],
   "source": [
    "#defining train section of the model to attain the best predictions\n",
    "def training(model,X_train,y_train,n_epochs):\n",
    "    model.train()\n",
    "    train_losses = []\n",
    "    \n",
    "    for epoch in range(n_epochs):\n",
    "        optimizer.zero_grad()\n",
    "        model.reset_hidden_state() #the state has to be initialise to the start position after an epoch start.\n",
    "        y_pred = model(X_train)\n",
    "        loss = criterion(y_pred.float(), y_train) #attain loss to update weights.\n",
    "        train_losses.append(loss.item())\n",
    "        \n",
    "        if epoch % 10 == 0:\n",
    "            print(f'Epoch {epoch} train loss: {loss.item()}')\n",
    "            \n",
    "        loss.backward()\n",
    "        optimizer.step()\n",
    "    return train_losses"
   ]
  },
  {
   "cell_type": "code",
   "execution_count": 22,
   "metadata": {},
   "outputs": [
    {
     "name": "stdout",
     "output_type": "stream",
     "text": [
      "Epoch 0 train loss: 0.21267318725585938\n",
      "Epoch 10 train loss: 0.20088647305965424\n",
      "Epoch 20 train loss: 0.19846759736537933\n",
      "Epoch 30 train loss: 0.19646893441677094\n",
      "Epoch 40 train loss: 0.1919783055782318\n",
      "Epoch 50 train loss: 0.19963619112968445\n",
      "Epoch 60 train loss: 0.20208550989627838\n",
      "Epoch 70 train loss: 0.1981368064880371\n",
      "Epoch 80 train loss: 0.1955859661102295\n",
      "Epoch 90 train loss: 0.19487321376800537\n",
      "Epoch 100 train loss: 0.19474875926971436\n",
      "Epoch 110 train loss: 0.19451884925365448\n",
      "Epoch 120 train loss: 0.19426177442073822\n",
      "Epoch 130 train loss: 0.19403176009655\n",
      "Epoch 140 train loss: 0.1937917172908783\n",
      "Epoch 150 train loss: 0.19352862238883972\n",
      "Epoch 160 train loss: 0.19323240220546722\n",
      "Epoch 170 train loss: 0.1928723007440567\n",
      "Epoch 180 train loss: 0.1923774927854538\n",
      "Epoch 190 train loss: 0.19153599441051483\n",
      "Epoch 200 train loss: 0.18903903663158417\n",
      "Epoch 210 train loss: 0.1665409952402115\n",
      "Epoch 220 train loss: 0.13727155327796936\n",
      "Epoch 230 train loss: 0.12740761041641235\n",
      "Epoch 240 train loss: 0.11112391203641891\n",
      "Epoch 250 train loss: 0.10728983581066132\n",
      "Epoch 260 train loss: 0.10691822320222855\n",
      "Epoch 270 train loss: 0.10594609379768372\n",
      "Epoch 280 train loss: 0.10543008893728256\n",
      "Epoch 290 train loss: 0.1050906777381897\n",
      "Epoch 300 train loss: 0.10484282672405243\n",
      "Epoch 310 train loss: 0.10466669499874115\n",
      "Epoch 320 train loss: 0.10451160371303558\n",
      "Epoch 330 train loss: 0.10438127815723419\n",
      "Epoch 340 train loss: 0.10426682233810425\n",
      "Epoch 350 train loss: 0.10416588932275772\n",
      "Epoch 360 train loss: 0.1040758565068245\n",
      "Epoch 370 train loss: 0.10399438440799713\n",
      "Epoch 380 train loss: 0.10391964763402939\n",
      "Epoch 390 train loss: 0.10385023057460785\n"
     ]
    }
   ],
   "source": [
    "train_losses = training(model,X_train,y_train,n_epochs=400)"
   ]
  },
  {
   "cell_type": "code",
   "execution_count": 23,
   "metadata": {},
   "outputs": [
    {
     "data": {
      "image/png": "[encoded data removed]",
      "text/plain": [
       "<Figure size 576x432 with 1 Axes>"
      ]
     },
     "metadata": {
      "needs_background": "light"
     },
     "output_type": "display_data"
    }
   ],
   "source": [
    "# Plotting loss values\n",
    "'loss values during training for each epoch calculation'\n",
    "plt.figure(figsize=(8,6))\n",
    "plt.plot(train_losses, label='Training')    \n",
    "plt.title(\"loss vs epoch\",fontsize=20)\n",
    "plt.xlabel(\"epoch\",fontsize=15)\n",
    "plt.ylabel(\"loss\",fontsize=15)\n",
    "plt.legend(fontsize=15)\n",
    "plt.show()"
   ]
  },
  {
   "cell_type": "markdown",
   "metadata": {},
   "source": [
    "# 6. Validating Test Dataset by the LSTM Model\n",
    "The data points are chosen as 12 because the train has 132 elements resulting total dataset elements as 144."
   ]
  },
  {
   "cell_type": "code",
   "execution_count": 24,
   "metadata": {},
   "outputs": [
    {
     "data": {
      "text/plain": [
       "(torch.Size([1, 12, 1]),\n",
       " tensor([[[0.1253],\n",
       "          [0.0462],\n",
       "          [0.3275],\n",
       "          [0.2835],\n",
       "          [0.3890],\n",
       "          [0.6176],\n",
       "          [0.9516],\n",
       "          [1.0000],\n",
       "          [0.5780],\n",
       "          [0.3319],\n",
       "          [0.1341],\n",
       "          [0.3231]]]))"
      ]
     },
     "execution_count": 24,
     "metadata": {},
     "output_type": "execute_result"
    }
   ],
   "source": [
    "#Predicting data of future months\n",
    "future_months = 12 #as the test data remainded is 12\n",
    "sequence_length = 12\n",
    "test_data = torch.FloatTensor(train_data[-sequence_length:].tolist()).reshape(1,12,1)\n",
    "test_data.shape, test_data #defines next 12 months data i.e. indices: [133,134....144]"
   ]
  },
  {
   "cell_type": "code",
   "execution_count": 25,
   "metadata": {},
   "outputs": [],
   "source": [
    "#validating values for the test data for future prediction\n",
    "def testing(model,test_data,predict_days,sequence_length):\n",
    "    model.eval()\n",
    "    with torch.no_grad():\n",
    "        test_sequence = test_data #to send the last data of X as input to network to predict future\n",
    "        predicts = []\n",
    "\n",
    "        for _ in range(predict_days):\n",
    "            y_pred = model(test_sequence)\n",
    "            predict = torch.flatten(y_pred).item() #flatten the values \n",
    "            predicts.append(predict)\n",
    "            \n",
    "            test_seq = test_sequence.numpy().flatten() #flatten old sequence to connect with new sequence\n",
    "            test_seq = np.append(test_seq, [predict]) #obtain new predicted as sequence\n",
    "            test_seq = test_seq[1:] #to perform last values\n",
    "            testing_seq = torch.as_tensor(test_seq).view(1, sequence_length, 1).float()\n",
    "    return predicts"
   ]
  },
  {
   "cell_type": "code",
   "execution_count": 26,
   "metadata": {},
   "outputs": [
    {
     "data": {
      "text/plain": [
       "[0.25752419233322144,\n",
       " 0.2459692656993866,\n",
       " 0.23667916655540466,\n",
       " 0.22901052236557007,\n",
       " 0.22268235683441162,\n",
       " 0.21752724051475525,\n",
       " 0.21340042352676392,\n",
       " 0.21015620231628418,\n",
       " 0.20764940977096558,\n",
       " 0.20574277639389038,\n",
       " 0.20431286096572876,\n",
       " 0.203253835439682]"
      ]
     },
     "execution_count": 26,
     "metadata": {},
     "output_type": "execute_result"
    }
   ],
   "source": [
    "predict_months = 12 #next months data cases can be an estimated confirm\n",
    "predict_passengers = testing(model,test_data,predict_months,sequence_length = 12) #same sequence_length from before data split\n",
    "predict_passengers"
   ]
  },
  {
   "cell_type": "code",
   "execution_count": 27,
   "metadata": {},
   "outputs": [
    {
     "data": {
      "text/plain": [
       "(array([132, 133, 134, 135, 136, 137, 138, 139, 140, 141, 142, 143]),\n",
       " array([390.08675376, 387.45800795, 385.34451039, 383.59989384,\n",
       "        382.16023618, 380.98744722, 380.04859635, 379.31053603,\n",
       "        378.74024072, 378.30648163, 377.98117587, 377.74024756]))"
      ]
     },
     "execution_count": 27,
     "metadata": {},
     "output_type": "execute_result"
    }
   ],
   "source": [
    "#reverse values from 0 to 1 by minmaxscaler to original values\n",
    "future_passengers = mm_scaler.inverse_transform(np.expand_dims(predict_passengers, axis=0)).flatten() \n",
    "index = np.arange(132, 144, 1)\n",
    "index,future_passengers"
   ]
  },
  {
   "cell_type": "markdown",
   "metadata": {},
   "source": [
    "# 7. Plot of Final Flight Passengers Graph\n",
    "The plot is between the original dataset values and predicted data by the network. The model predicts better on continuous tuning of hyperparameters."
   ]
  },
  {
   "cell_type": "code",
   "execution_count": 28,
   "metadata": {},
   "outputs": [
    {
     "data": {
      "image/png": "[encoded data removed]",
      "text/plain": [
       "<Figure size 432x288 with 1 Axes>"
      ]
     },
     "metadata": {
      "needs_background": "light"
     },
     "output_type": "display_data"
    }
   ],
   "source": [
    "plt.title('Month vs Passenger')\n",
    "plt.ylabel('Total Passengers')\n",
    "plt.grid(True)\n",
    "plt.autoscale(axis='x', tight=True)\n",
    "plt.plot(flight_dataset['passengers'])\n",
    "plt.plot(index,future_passengers)\n",
    "plt.legend(['True Data','Predicted Data'])\n",
    "plt.show()"
   ]
  },
  {
   "cell_type": "markdown",
   "metadata": {},
   "source": [
    "### Reference\n",
    "https://www.curiousily.com/posts/time-series-forecasting-with-lstm-for-daily-coronavirus-cases/"
   ]
  }
 ],
 "metadata": {
  "kernelspec": {
   "display_name": "Python 3",
   "language": "python",
   "name": "python3"
  },
  "language_info": {
   "codemirror_mode": {
    "name": "ipython",
    "version": 3
   },
   "file_extension": ".py",
   "mimetype": "text/x-python",
   "name": "python",
   "nbconvert_exporter": "python",
   "pygments_lexer": "ipython3",
   "version": "3.7.0"
  }
 },
 "nbformat": 4,
 "nbformat_minor": 4
}
