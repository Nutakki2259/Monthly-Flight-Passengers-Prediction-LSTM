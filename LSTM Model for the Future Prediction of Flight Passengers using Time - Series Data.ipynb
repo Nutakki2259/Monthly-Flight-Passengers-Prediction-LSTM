{
 "cells": [
  {
   "cell_type": "markdown",
   "metadata": {},
   "source": [
    "# Monthly Flight Passengers Prediction using LSTM\n",
    "\n",
    "Long Short-Term  Memory(LSTM) model on total passengers forecasting using time-series data. This dataset provides data from 1949 January."
   ]
  },
  {
   "cell_type": "markdown",
   "metadata": {},
   "source": [
    "# Dataset Description\n",
    "\n",
    "The dataset is taken from the direct download of seaborn built in 'flight dataset'. The dataset has three columns: year, month, and passengers. The passengers column contains the total number of traveling passengers in a specified month. "
   ]
  },
  {
   "cell_type": "code",
   "execution_count": 1,
   "metadata": {},
   "outputs": [],
   "source": [
    "#import all the libraries that are needed\n",
    "import pandas as pd\n",
    "import numpy as np\n",
    "import torch\n",
    "import matplotlib.pyplot as plt\n",
    "import seaborn as sns\n",
    "from torch import nn\n",
    "from sklearn.preprocessing import MinMaxScaler"
   ]
  },
  {
   "cell_type": "code",
   "execution_count": 2,
   "metadata": {},
   "outputs": [
    {
     "name": "stderr",
     "output_type": "stream",
     "text": [
      "C:\\Users\\prade\\Anaconda3\\envs\\Python3.7\\lib\\site-packages\\seaborn\\utils.py:384: GuessedAtParserWarning: No parser was explicitly specified, so I'm using the best available HTML parser for this system (\"html.parser\"). This usually isn't a problem, but if you run this code on another system, or in a different virtual environment, it may use a different parser and behave differently.\n",
      "\n",
      "The code that caused this warning is on line 384 of the file C:\\Users\\prade\\Anaconda3\\envs\\Python3.7\\lib\\site-packages\\seaborn\\utils.py. To get rid of this warning, pass the additional argument 'features=\"html.parser\"' to the BeautifulSoup constructor.\n",
      "\n",
      "  gh_list = BeautifulSoup(http)\n"
     ]
    },
    {
     "data": {
      "text/plain": [
       "['anagrams',\n",
       " 'anscombe',\n",
       " 'attention',\n",
       " 'brain_networks',\n",
       " 'car_crashes',\n",
       " 'diamonds',\n",
       " 'dots',\n",
       " 'exercise',\n",
       " 'flights',\n",
       " 'fmri',\n",
       " 'gammas',\n",
       " 'geyser',\n",
       " 'iris',\n",
       " 'mpg',\n",
       " 'penguins',\n",
       " 'planets',\n",
       " 'tips',\n",
       " 'titanic']"
      ]
     },
     "execution_count": 2,
     "metadata": {},
     "output_type": "execute_result"
    }
   ],
   "source": [
    "#vizualize the datasets in seaborn\n",
    "sns.get_dataset_names()"
   ]
  },
  {
   "cell_type": "markdown",
   "metadata": {},
   "source": [
    "# 1. Loading & Vizualizing Flight Passengers Dataset "
   ]
  },
  {
   "cell_type": "code",
   "execution_count": 3,
   "metadata": {},
   "outputs": [],
   "source": [
    "#loading the dataset\n",
    "flight_dataset = sns.load_dataset('flights')"
   ]
  },
  {
   "cell_type": "code",
   "execution_count": 4,
   "metadata": {},
   "outputs": [
    {
     "data": {
      "text/html": [
       "<div>\n",
       "<style scoped>\n",
       "    .dataframe tbody tr th:only-of-type {\n",
       "        vertical-align: middle;\n",
       "    }\n",
       "\n",
       "    .dataframe tbody tr th {\n",
       "        vertical-align: top;\n",
       "    }\n",
       "\n",
       "    .dataframe thead th {\n",
       "        text-align: right;\n",
       "    }\n",
       "</style>\n",
       "<table border=\"1\" class=\"dataframe\">\n",
       "  <thead>\n",
       "    <tr style=\"text-align: right;\">\n",
       "      <th></th>\n",
       "      <th>year</th>\n",
       "      <th>month</th>\n",
       "      <th>passengers</th>\n",
       "    </tr>\n",
       "  </thead>\n",
       "  <tbody>\n",
       "    <tr>\n",
       "      <th>0</th>\n",
       "      <td>1949</td>\n",
       "      <td>January</td>\n",
       "      <td>112</td>\n",
       "    </tr>\n",
       "    <tr>\n",
       "      <th>1</th>\n",
       "      <td>1949</td>\n",
       "      <td>February</td>\n",
       "      <td>118</td>\n",
       "    </tr>\n",
       "    <tr>\n",
       "      <th>2</th>\n",
       "      <td>1949</td>\n",
       "      <td>March</td>\n",
       "      <td>132</td>\n",
       "    </tr>\n",
       "    <tr>\n",
       "      <th>3</th>\n",
       "      <td>1949</td>\n",
       "      <td>April</td>\n",
       "      <td>129</td>\n",
       "    </tr>\n",
       "    <tr>\n",
       "      <th>4</th>\n",
       "      <td>1949</td>\n",
       "      <td>May</td>\n",
       "      <td>121</td>\n",
       "    </tr>\n",
       "    <tr>\n",
       "      <th>...</th>\n",
       "      <td>...</td>\n",
       "      <td>...</td>\n",
       "      <td>...</td>\n",
       "    </tr>\n",
       "    <tr>\n",
       "      <th>139</th>\n",
       "      <td>1960</td>\n",
       "      <td>August</td>\n",
       "      <td>606</td>\n",
       "    </tr>\n",
       "    <tr>\n",
       "      <th>140</th>\n",
       "      <td>1960</td>\n",
       "      <td>September</td>\n",
       "      <td>508</td>\n",
       "    </tr>\n",
       "    <tr>\n",
       "      <th>141</th>\n",
       "      <td>1960</td>\n",
       "      <td>October</td>\n",
       "      <td>461</td>\n",
       "    </tr>\n",
       "    <tr>\n",
       "      <th>142</th>\n",
       "      <td>1960</td>\n",
       "      <td>November</td>\n",
       "      <td>390</td>\n",
       "    </tr>\n",
       "    <tr>\n",
       "      <th>143</th>\n",
       "      <td>1960</td>\n",
       "      <td>December</td>\n",
       "      <td>432</td>\n",
       "    </tr>\n",
       "  </tbody>\n",
       "</table>\n",
       "<p>144 rows × 3 columns</p>\n",
       "</div>"
      ],
      "text/plain": [
       "     year      month  passengers\n",
       "0    1949    January         112\n",
       "1    1949   February         118\n",
       "2    1949      March         132\n",
       "3    1949      April         129\n",
       "4    1949        May         121\n",
       "..    ...        ...         ...\n",
       "139  1960     August         606\n",
       "140  1960  September         508\n",
       "141  1960    October         461\n",
       "142  1960   November         390\n",
       "143  1960   December         432\n",
       "\n",
       "[144 rows x 3 columns]"
      ]
     },
     "execution_count": 4,
     "metadata": {},
     "output_type": "execute_result"
    }
   ],
   "source": [
    "#To vizualize the loaded dataset\n",
    "flight_dataset"
   ]
  },
  {
   "cell_type": "code",
   "execution_count": 6,
   "metadata": {},
   "outputs": [
    {
     "data": {
      "image/png": "[encoded data removed]",
      "text/plain": [
       "<Figure size 432x288 with 1 Axes>"
      ]
     },
     "metadata": {
      "needs_background": "light"
     },
     "output_type": "display_data"
    }
   ],
   "source": [
    "#plotting the data\n",
    "plt.plot(flight_dataset['passengers'])\n",
    "plt.title('Month vs Passenger')\n",
    "plt.ylabel('Total Passengers')\n",
    "plt.xlabel('Months')\n",
    "plt.grid(True)"
   ]
  },
  {
   "cell_type": "markdown",
   "metadata": {},
   "source": [
    "# 2. Splitting the Dataset into Train, Test"
   ]
  },
  {
   "cell_type": "code",
   "execution_count": 8,
   "metadata": {},
   "outputs": [],
   "source": [
    "#change the values of passengers to float values for prcoessing further\n",
    "passenger_values = flight_dataset['passengers'].values.astype(float)\n",
    "\n",
    "#train, test splitting the dataset\n",
    "split_size = 12\n",
    "train_values = passenger_values[:-split_size]\n",
    "test_values = passenger_values[-split_size:]"
   ]
  },
  {
   "cell_type": "code",
   "execution_count": 9,
   "metadata": {},
   "outputs": [
    {
     "data": {
      "text/plain": [
       "((132, 1),\n",
       " array([[0.01758242],\n",
       "        [0.03076923],\n",
       "        [0.06153846],\n",
       "        [0.05494505],\n",
       "        [0.03736264],\n",
       "        [0.06813187],\n",
       "        [0.0967033 ],\n",
       "        [0.0967033 ],\n",
       "        [0.07032967],\n",
       "        [0.03296703],\n",
       "        [0.        ],\n",
       "        [0.03076923],\n",
       "        [0.02417582],\n",
       "        [0.04835165],\n",
       "        [0.08131868],\n",
       "        [0.06813187],\n",
       "        [0.04615385],\n",
       "        [0.0989011 ],\n",
       "        [0.14505495],\n",
       "        [0.14505495],\n",
       "        [0.11868132],\n",
       "        [0.06373626],\n",
       "        [0.02197802],\n",
       "        [0.07912088],\n",
       "        [0.09010989],\n",
       "        [0.1010989 ],\n",
       "        [0.16263736],\n",
       "        [0.12967033],\n",
       "        [0.14945055],\n",
       "        [0.16263736],\n",
       "        [0.20879121],\n",
       "        [0.20879121],\n",
       "        [0.17582418],\n",
       "        [0.12747253],\n",
       "        [0.09230769],\n",
       "        [0.13626374],\n",
       "        [0.14725275],\n",
       "        [0.16703297],\n",
       "        [0.1956044 ],\n",
       "        [0.16923077],\n",
       "        [0.17362637],\n",
       "        [0.25054945],\n",
       "        [0.27692308],\n",
       "        [0.3032967 ],\n",
       "        [0.23076923],\n",
       "        [0.19120879],\n",
       "        [0.14945055],\n",
       "        [0.1978022 ],\n",
       "        [0.2021978 ],\n",
       "        [0.2021978 ],\n",
       "        [0.29010989],\n",
       "        [0.28791209],\n",
       "        [0.27472527],\n",
       "        [0.30549451],\n",
       "        [0.35164835],\n",
       "        [0.36923077],\n",
       "        [0.29230769],\n",
       "        [0.23516484],\n",
       "        [0.16703297],\n",
       "        [0.21318681],\n",
       "        [0.21978022],\n",
       "        [0.18461538],\n",
       "        [0.28791209],\n",
       "        [0.27032967],\n",
       "        [0.28571429],\n",
       "        [0.35164835],\n",
       "        [0.43516484],\n",
       "        [0.41538462],\n",
       "        [0.34065934],\n",
       "        [0.27472527],\n",
       "        [0.21758242],\n",
       "        [0.27472527],\n",
       "        [0.3032967 ],\n",
       "        [0.28351648],\n",
       "        [0.35824176],\n",
       "        [0.36263736],\n",
       "        [0.36483516],\n",
       "        [0.46373626],\n",
       "        [0.57142857],\n",
       "        [0.53406593],\n",
       "        [0.45714286],\n",
       "        [0.37362637],\n",
       "        [0.29230769],\n",
       "        [0.38241758],\n",
       "        [0.3956044 ],\n",
       "        [0.38021978],\n",
       "        [0.46813187],\n",
       "        [0.45934066],\n",
       "        [0.47032967],\n",
       "        [0.59340659],\n",
       "        [0.67912088],\n",
       "        [0.66153846],\n",
       "        [0.55164835],\n",
       "        [0.44395604],\n",
       "        [0.36703297],\n",
       "        [0.44395604],\n",
       "        [0.46373626],\n",
       "        [0.43296703],\n",
       "        [0.55384615],\n",
       "        [0.53626374],\n",
       "        [0.55164835],\n",
       "        [0.6989011 ],\n",
       "        [0.79340659],\n",
       "        [0.7978022 ],\n",
       "        [0.65934066],\n",
       "        [0.53406593],\n",
       "        [0.44175824],\n",
       "        [0.50989011],\n",
       "        [0.51868132],\n",
       "        [0.47032967],\n",
       "        [0.56703297],\n",
       "        [0.53626374],\n",
       "        [0.56923077],\n",
       "        [0.72747253],\n",
       "        [0.85054945],\n",
       "        [0.88131868],\n",
       "        [0.65934066],\n",
       "        [0.56043956],\n",
       "        [0.45274725],\n",
       "        [0.51208791],\n",
       "        [0.56263736],\n",
       "        [0.52307692],\n",
       "        [0.66373626],\n",
       "        [0.64175824],\n",
       "        [0.69450549],\n",
       "        [0.80879121],\n",
       "        [0.97582418],\n",
       "        [1.        ],\n",
       "        [0.78901099],\n",
       "        [0.66593407],\n",
       "        [0.56703297],\n",
       "        [0.66153846]]))"
      ]
     },
     "execution_count": 9,
     "metadata": {},
     "output_type": "execute_result"
    }
   ],
   "source": [
    "#to evaluate oor normalize the values between 0 and 1\n",
    "mm_scaler = MinMaxScaler() \n",
    "mm_scaler = mm_scaler.fit(np.expand_dims(train_values, axis=1))\n",
    "train_data = mm_scaler.transform(np.expand_dims(train_values, axis=1))\n",
    "train_data.shape, train_data"
   ]
  },
  {
   "cell_type": "markdown",
   "metadata": {},
   "source": [
    "# 3. Convert the Data into X,y"
   ]
  },
  {
   "cell_type": "code",
   "execution_count": 10,
   "metadata": {},
   "outputs": [],
   "source": [
    "#These created train and test data should be split the sequence into input (X) and output (y) values depending on sequence length\n",
    "def split_sequences(sequences_data,sequence_length):\n",
    "    X,y = list(),list()\n",
    "    for i in range(len(sequences_data)-sequence_length-1):\n",
    "        # find the end of this pattern\n",
    "        end_ix = i + sequence_length\n",
    "        #gather input and output parts of the pattern\n",
    "        seq_x, seq_y = sequences_data[i:(end_ix)],sequences_data[end_ix]\n",
    "        X.append(seq_x)\n",
    "        y.append(seq_y)\n",
    "    return np.array(X), np.array(y)"
   ]
  },
  {
   "cell_type": "code",
   "execution_count": 11,
   "metadata": {},
   "outputs": [],
   "source": [
    "#Obtaining X and y values of train data\n",
    "X_train, y_train = split_sequences(sequences_data=train_data,sequence_length = 12)"
   ]
  },
  {
   "cell_type": "code",
   "execution_count": 12,
   "metadata": {},
   "outputs": [
    {
     "data": {
      "text/plain": [
       "(array([[0.01758242],\n",
       "        [0.03076923],\n",
       "        [0.06153846],\n",
       "        [0.05494505],\n",
       "        [0.03736264],\n",
       "        [0.06813187],\n",
       "        [0.0967033 ],\n",
       "        [0.0967033 ],\n",
       "        [0.07032967],\n",
       "        [0.03296703],\n",
       "        [0.        ],\n",
       "        [0.03076923]]),\n",
       " (119, 12, 1))"
      ]
     },
     "execution_count": 12,
     "metadata": {},
     "output_type": "execute_result"
    }
   ],
   "source": [
    "#Viewing first element of input train value\n",
    "X_train[0], X_train.shape"
   ]
  },
  {
   "cell_type": "code",
   "execution_count": 13,
   "metadata": {},
   "outputs": [
    {
     "data": {
      "text/plain": [
       "(array([0.02417582]), (119, 1))"
      ]
     },
     "execution_count": 13,
     "metadata": {},
     "output_type": "execute_result"
    }
   ],
   "source": [
    "#Viewing first element of output train value\n",
    "y_train[0], y_train.shape"
   ]
  },
  {
   "cell_type": "code",
   "execution_count": 14,
   "metadata": {},
   "outputs": [
    {
     "data": {
      "text/plain": [
       "(torch.Size([119, 12, 1]), torch.Size([119, 1]))"
      ]
     },
     "execution_count": 14,
     "metadata": {},
     "output_type": "execute_result"
    }
   ],
   "source": [
    "#Converting train data from numpy array into Pytorch tensors\n",
    "X_train = torch.from_numpy(X_train).float()\n",
    "y_train = torch.from_numpy(y_train).float()\n",
    "X_train.shape, y_train.shape"
   ]
  },
  {
   "cell_type": "markdown",
   "metadata": {},
   "source": [
    "# 4. Building LSTM Network Model\n",
    "Initialise the data layers for the LSTM, sequence length, hidden and feature size. As it is require to reset the state after every epoch of turn to analyse again the data as clear. Get the test data time step that is required and sent to linear layer to forecast the future."
   ]
  },
  {
   "cell_type": "code",
   "execution_count": 15,
   "metadata": {},
   "outputs": [],
   "source": [
    "#Defining a class of future data prediction using 'LSTM' as of self.lstm\n",
    "class FutureDataPrediction(nn.Module):\n",
    "    def __init__(self, feature_size, hidden_layer, seq_len,layers=2):\n",
    "        super(FutureDataPrediction, self).__init__()\n",
    "        self.hidden_layer = hidden_layer\n",
    "        self.seq_len = seq_len\n",
    "        self.layers = layers\n",
    "        \n",
    "        self.lstm = nn.LSTM(input_size=feature_size,hidden_size=hidden_layer,num_layers=layers)\n",
    "        self.linear = nn.Linear(in_features=hidden_layer, out_features=1)\n",
    "        \n",
    "    def reset_hidden_state(self):\n",
    "        self.hidden = (\n",
    "            torch.zeros(self.layers, self.seq_len, self.hidden_layer),\n",
    "            torch.zeros(self.layers, self.seq_len, self.hidden_layer))\n",
    "    \n",
    "    def forward(self, data):\n",
    "        lstm, self.hidden = self.lstm(data.view(len(data), self.seq_len, -1),self.hidden)\n",
    "        previous_time_step = lstm.view(self.seq_len, len(data), self.hidden_layer)[-1]\n",
    "        out = self.linear(previous_time_step)\n",
    "        return out\n",
    "   "
   ]
  },
  {
   "cell_type": "code",
   "execution_count": 16,
   "metadata": {},
   "outputs": [],
   "source": [
    "#initialise modelparameters\n",
    "model = FutureDataPrediction(\n",
    "    feature_size=1,\n",
    "    hidden_layer=100,\n",
    "    seq_len=12,\n",
    "    layers=1)\n",
    "criterion = torch.nn.MSELoss() #loss function\n",
    "optimizer = torch.optim.Adam(model.parameters(), lr=1e-3) #optimizer"
   ]
  },
  {
   "cell_type": "code",
   "execution_count": 17,
   "metadata": {},
   "outputs": [
    {
     "data": {
      "text/plain": [
       "FutureDataPrediction(\n",
       "  (lstm): LSTM(1, 100)\n",
       "  (linear): Linear(in_features=100, out_features=1, bias=True)\n",
       ")"
      ]
     },
     "execution_count": 17,
     "metadata": {},
     "output_type": "execute_result"
    }
   ],
   "source": [
    "#The designed model structure can be vizualized\n",
    "model\n",
    "torch.save(model.state_dict(), 'LSTM_Model.pt') #saving the model\n",
    "model.load_state_dict(torch.load('LSTM_Model.pt')) #loading the model"
   ]
  },
  {
   "cell_type": "markdown",
   "metadata": {},
   "source": [
    "# 5. Train the LSTM Model using Hyperparameters"
   ]
  },
  {
   "cell_type": "code",
   "execution_count": 18,
   "metadata": {},
   "outputs": [],
   "source": [
    "#defining train section of the model to attain the best predictions\n",
    "def training(model,X_train,y_train,n_epochs):\n",
    "    model.train()\n",
    "    train_losses = []\n",
    "    \n",
    "    for epoch in range(n_epochs):\n",
    "        model.reset_hidden_state() #the state has to be initialise to the start position after an epoch start.\n",
    "        optimizer.zero_grad()\n",
    "        y_pred = model(X_train)\n",
    "        loss = criterion(y_pred.float(), y_train) #attain loss to update weights.\n",
    "        train_losses.append(loss.item())\n",
    "        \n",
    "        if epoch % 10 == 0:\n",
    "            print(f'Epoch {epoch} train loss: {loss.item()}')\n",
    "            \n",
    "        loss.backward()\n",
    "        optimizer.step()\n",
    "    return train_losses"
   ]
  },
  {
   "cell_type": "code",
   "execution_count": 19,
   "metadata": {},
   "outputs": [
    {
     "name": "stdout",
     "output_type": "stream",
     "text": [
      "Epoch 0 train loss: 0.1622394621372223\n",
      "Epoch 10 train loss: 0.05476006120443344\n",
      "Epoch 20 train loss: 0.050029389560222626\n",
      "Epoch 30 train loss: 0.05066963657736778\n",
      "Epoch 40 train loss: 0.04928496479988098\n",
      "Epoch 50 train loss: 0.04937087371945381\n",
      "Epoch 60 train loss: 0.04930712282657623\n",
      "Epoch 70 train loss: 0.049234066158533096\n",
      "Epoch 80 train loss: 0.04921712726354599\n",
      "Epoch 90 train loss: 0.04919719323515892\n",
      "Epoch 100 train loss: 0.049173567444086075\n",
      "Epoch 110 train loss: 0.049149930477142334\n",
      "Epoch 120 train loss: 0.04912542551755905\n",
      "Epoch 130 train loss: 0.04909930378198624\n",
      "Epoch 140 train loss: 0.04907119274139404\n"
     ]
    }
   ],
   "source": [
    "train_losses = training(model,X_train,y_train,n_epochs=150)"
   ]
  },
  {
   "cell_type": "code",
   "execution_count": 20,
   "metadata": {},
   "outputs": [
    {
     "data": {
      "image/png": "[encoded data removed]",
      "text/plain": [
       "<Figure size 576x432 with 1 Axes>"
      ]
     },
     "metadata": {
      "needs_background": "light"
     },
     "output_type": "display_data"
    }
   ],
   "source": [
    "# Plotting loss values\n",
    "'loss values during training for each epoch calculation'\n",
    "plt.figure(figsize=(8,6))\n",
    "plt.plot(train_losses, label='Training')    \n",
    "plt.title(\"loss vs epoch\",fontsize=20)\n",
    "plt.xlabel(\"epoch\",fontsize=15)\n",
    "plt.ylabel(\"loss\",fontsize=15)\n",
    "plt.legend(fontsize=15)\n",
    "plt.show()"
   ]
  },
  {
   "cell_type": "markdown",
   "metadata": {},
   "source": [
    "# 6. Validating Test Dataset by the LSTM Model\n",
    "The data points are chosen as 12 because the train has 132 elements resulting total dataset elements as 144."
   ]
  },
  {
   "cell_type": "code",
   "execution_count": 50,
   "metadata": {},
   "outputs": [
    {
     "data": {
      "text/plain": [
       "(torch.Size([1, 12, 1]),\n",
       " tensor([[[0.5626],\n",
       "          [0.5231],\n",
       "          [0.6637],\n",
       "          [0.6418],\n",
       "          [0.6945],\n",
       "          [0.8088],\n",
       "          [0.9758],\n",
       "          [1.0000],\n",
       "          [0.7890],\n",
       "          [0.6659],\n",
       "          [0.5670],\n",
       "          [0.6615]]]))"
      ]
     },
     "execution_count": 50,
     "metadata": {},
     "output_type": "execute_result"
    }
   ],
   "source": [
    "#Predicting data of future months\n",
    "future_months = 12 #as the test data remainded is 12\n",
    "sequence_length = 12\n",
    "test_data = torch.FloatTensor(train_data[-sequence_length:].tolist()).reshape(1,12,1)\n",
    "test_data.shape, test_data #defines next 12 months data i.e. indices: [133,134....144]"
   ]
  },
  {
   "cell_type": "code",
   "execution_count": 61,
   "metadata": {},
   "outputs": [],
   "source": [
    "#validating values for the test data for future prediction\n",
    "def testing(model,test_data,predict_days,sequence_length):\n",
    "    model.eval()\n",
    "    with torch.no_grad():\n",
    "        test_sequence = test_data #to send the last data of X as input to network to predict future\n",
    "        predicts = []\n",
    "\n",
    "        for _ in range(predict_days):\n",
    "            y_pred = model(test_sequence)\n",
    "            predict = torch.flatten(y_pred).item() #flatten the values \n",
    "            predicts.append(predict)\n",
    "            \n",
    "            test_seq = test_sequence.numpy().flatten() #flatten old sequence to connect with new sequence\n",
    "            test_seq = np.append(test_seq, [predict]) #obtain new predicted as sequence\n",
    "            test_seq = test_seq[1:] #to perform last values\n",
    "            testing_seq = torch.as_tensor(test_seq).view(1, sequence_length, 1).float()\n",
    "    return predicts"
   ]
  },
  {
   "cell_type": "code",
   "execution_count": 62,
   "metadata": {},
   "outputs": [
    {
     "data": {
      "text/plain": [
       "[0.309781014919281,\n",
       " 0.330912709236145,\n",
       " 0.3474261164665222,\n",
       " 0.3593097925186157,\n",
       " 0.36741071939468384,\n",
       " 0.37271565198898315,\n",
       " 0.3760789632797241,\n",
       " 0.37815314531326294,\n",
       " 0.3794013261795044,\n",
       " 0.3801358938217163,\n",
       " 0.38055914640426636,\n",
       " 0.3807982802391052]"
      ]
     },
     "execution_count": 62,
     "metadata": {},
     "output_type": "execute_result"
    }
   ],
   "source": [
    "predict_months = 12 #next months data cases can be an estimated confirm\n",
    "predict_passengers = testing(model,test_data,predict_months,sequence_length = 12) #same sequence_length from before data split\n",
    "predict_passengers"
   ]
  },
  {
   "cell_type": "code",
   "execution_count": 72,
   "metadata": {},
   "outputs": [
    {
     "data": {
      "text/plain": [
       "(array([132, 133, 134, 135, 136, 137, 138, 139, 140, 141, 142, 143]),\n",
       " array([244.95036179, 254.5652827 , 262.07888299, 267.4859556 ,\n",
       "        271.17187732, 273.58562165, 275.11592829, 276.05968112,\n",
       "        276.62760341, 276.96183169, 277.15441161, 277.26321751]))"
      ]
     },
     "execution_count": 72,
     "metadata": {},
     "output_type": "execute_result"
    }
   ],
   "source": [
    "#reverse values from 0 to 1 by minmaxscaler to original values\n",
    "future_passengers = mm_scaler.inverse_transform(np.expand_dims(predict_passengers, axis=0)).flatten() \n",
    "index = np.arange(132, 144, 1)\n",
    "index,future_passengers"
   ]
  },
  {
   "cell_type": "markdown",
   "metadata": {},
   "source": [
    "# 7. Plot of Final Flight Passengers Graph\n",
    "The plot is between the original dataset values and predicted data by the network. The model predicts better on continuous tuning of hyperparameters."
   ]
  },
  {
   "cell_type": "code",
   "execution_count": 81,
   "metadata": {},
   "outputs": [
    {
     "data": {
      "image/png": "[encoded data removed]",
      "text/plain": [
       "<Figure size 432x288 with 1 Axes>"
      ]
     },
     "metadata": {
      "needs_background": "light"
     },
     "output_type": "display_data"
    }
   ],
   "source": [
    "plt.title('Month vs Passenger')\n",
    "plt.ylabel('Total Passengers')\n",
    "plt.grid(True)\n",
    "plt.autoscale(axis='x', tight=True)\n",
    "plt.plot(flight_dataset['passengers'])\n",
    "plt.plot(index,future_cases)\n",
    "plt.legend(['True Data','Predicted Data'])\n",
    "plt.show()"
   ]
  },
  {
   "cell_type": "markdown",
   "metadata": {},
   "source": [
    "### Reference\n",
    "https://www.curiousily.com/posts/time-series-forecasting-with-lstm-for-daily-coronavirus-cases/"
   ]
  }
 ],
 "metadata": {
  "kernelspec": {
   "display_name": "Python 3",
   "language": "python",
   "name": "python3"
  },
  "language_info": {
   "codemirror_mode": {
    "name": "ipython",
    "version": 3
   },
   "file_extension": ".py",
   "mimetype": "text/x-python",
   "name": "python",
   "nbconvert_exporter": "python",
   "pygments_lexer": "ipython3",
   "version": "3.7.0"
  }
 },
 "nbformat": 4,
 "nbformat_minor": 4
}
